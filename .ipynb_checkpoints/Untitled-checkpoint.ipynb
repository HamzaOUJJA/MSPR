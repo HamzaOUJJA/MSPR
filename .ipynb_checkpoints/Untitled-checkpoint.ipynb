{
 "cells": [
  {
   "cell_type": "code",
   "execution_count": null,
   "id": "d17efda5-966b-4bd1-9dcf-ba6dd7f7f3cf",
   "metadata": {},
   "outputs": [],
   "source": [
    "import pandas as pd\n",
    "\n",
    "# Chemin vers ton fichier CSV décompressé\n",
    "file_path = \"2019-Oct.csv\"  # Remplace par le nom de ton fichier\n",
    "\n",
    "# Chargement des données\n",
    "df = pd.read_csv(file_path)\n",
    "\n",
    "# Affichage de la taille du dataset (lignes, colonnes)\n",
    "print(\"📏 Taille du dataset :\", df.shape)\n"
   ]
  },
  {
   "cell_type": "code",
   "execution_count": null,
   "id": "8bbb1459-39df-471e-bef8-6aee1e0502e8",
   "metadata": {},
   "outputs": [],
   "source": []
  }
 ],
 "metadata": {
  "kernelspec": {
   "display_name": "Python 3 (ipykernel)",
   "language": "python",
   "name": "python3"
  },
  "language_info": {
   "codemirror_mode": {
    "name": "ipython",
    "version": 3
   },
   "file_extension": ".py",
   "mimetype": "text/x-python",
   "name": "python",
   "nbconvert_exporter": "python",
   "pygments_lexer": "ipython3",
   "version": "3.9.6"
  }
 },
 "nbformat": 4,
 "nbformat_minor": 5
}
