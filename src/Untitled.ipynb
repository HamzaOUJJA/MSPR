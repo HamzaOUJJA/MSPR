{
 "cells": [
  {
   "cell_type": "code",
   "execution_count": null,
   "id": "dcb5d31c-02bd-4bda-916a-d895727a8580",
   "metadata": {},
   "outputs": [],
   "source": []
  }
 ],
 "metadata": {
  "kernelspec": {
   "display_name": "",
   "name": ""
  },
  "language_info": {
   "name": ""
  }
 },
 "nbformat": 4,
 "nbformat_minor": 5
}
